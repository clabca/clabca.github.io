{
  "nbformat": 4,
  "nbformat_minor": 0,
  "metadata": {
    "colab": {
      "provenance": []
    },
    "kernelspec": {
      "name": "python3",
      "display_name": "Python 3"
    },
    "language_info": {
      "name": "python"
    }
  },
  "cells": [
    {
      "cell_type": "markdown",
      "source": [
        "## <font color='purple'>__REFLEXIÓN GRUPAL__:<br>\n",
        "\n",
        "Hoy en día nos encontramos en una revolución de datos que está transformando el mundo de una forma tan violenta y rápida que es muy difícil predecir los cambios que se vienen incluso en el futuro cercano. Los datos se han convertido en un recurso invaluable, donde empresas, gobiernos y organizaciones de todo tipo están recolectando, almacenando y analizando cantidades masivas de datos a una velocidad sin precedentes.\n",
        "\n",
        "En este sentido el diplomado presenta una gran oportunidad para adentrarse a este mundo desde la Ciencia de Datos utilizando el lenguaje de programación Python. Entregando una gran cantidad de conocimientos desde la base para cimentarlos, como lo son los módulos introductorios a Python, el actual de obtención y preparación de datos y los siguientes en donde entraremos al aprendizaje y utilización de herramientas estadísticas para comprender los datos. Hasta sus herramientas más potentes como lo serán los siguientes módulos de Aprendizaje Supervisado y No Supervisado o de Deep Learning.\n",
        "Este módulo nos entregó las bases para poder trabajar y obtener datos de diversas fuentes con diferentes herramientas como:\n",
        "\n",
        "-Presentarnos y utilizar las librerías Numpy y Pandas para trabajar los datos.\n",
        "\n",
        "-El uso de Arrays con Numpy, el trabajo estructuras en Pandas junto al manejo de series y dataframes para ordenar la información.\n",
        "\n",
        "-Operaciones, agrupaciones y gestión de valores faltantes\n",
        "\n",
        "-Funciones de mapeo y visualización\n",
        "\n",
        "-Lectura y obtención de datos de diferentes tipos de archivos para el trabajo de información\n",
        "\n",
        "También durante los módulos se vieron una serie de Conceptos relacionados al trabajo de datos y las grandes potencialidades de uso a través de la programación. Durante las clases además nos instruyeron constantemente de aplicaciones en el mundo real y precauciones al momento de utilizar los códigos enseñados. Siempre con una postura crítica y evaluativa al momento de enfrentarnos a información. Con el motivo de evitar conclusiones apresuradas o un trabajo desprolijo de los datos disponibles.\n",
        "\n",
        "La programación en Python entrega un lenguaje intuitivo de trabajo y que presenta mucha flexibilidad para obtener los resultados y objetivos que se quieran plantear, existiendo opciones para un sinfín de campos y áreas distintas. Una de sus principales ventajas es que es de código abierto, permitiendo adentrarte mucho en la programación, incluso dando la posibilidad de crear y adaptar los códigos a tus necesidades.\n",
        "\n",
        "Un aspecto negativo de esto último es que, al permitir tanta libertad y flexibilidad, es necesario ser muy ordenado en la programación, tanto para no perder el orden uno mismo y no perderse en la programación ejecutada, como para no sacrificar la legibilidad del código para otros.  Existen una serie de convenciones de buenas prácticas para ordenarse en este sentido.\n",
        "\n",
        "Otra cosa para tener en consideración es que para trabajar grupos de datos demasiado grandes, existen otras herramientas de programación con mejor desempeño que librerías directas de python. Pero existen una serie de métodologías para poder trabajar con grandes volumenes de datos, desde particionar la data y trabajarla por partes, hasta complementos con mayor eficiencia en el trabajo de volumnes demasiado grandes de información.\n",
        "\n",
        "Ya que Python posee una gran compatibilidad con otros lenguajes de programación, como lo son R, C++, Latex, etc. Su versatilidad permite trabajar de forma óptima con múltiples herramientas ampliando aún más sus alcances para la resolución de problemas.\n",
        "\n",
        "También debido a que es de código abierto, existe una gran comunidad que trabaja y comparte información para la resolución de todo tipo de problemas, por lo que su programación se encuentra en una mejora y evolución continua, adaptándose y superando límites en cuanto a simplificación y alcances del uso de los datos para obtener información de alto valor. Muchas librerías tienen actualizaciones constantes, donde hay códigos que quedan obsoletos y se crean otros nuevos, esto permite el avance y mejora del lenguaje, pero también implica ser muy cuidadoso e informado al momento de programar y crear contenido para el trabajo de datos.\n",
        "\n",
        "Para el ámbito laboral, esta herramienta permite sistematizar y ordenar todo tipo de información valiosa, y si incluimos herramientas avanzadas como las que aprenderemos en los próximos módulos, permite tener al alcance una capacidad de procesamiento de datos que hace unos pocos años atrás, era inimaginable que tuviera acceso a personas sin una enorme cantidad de recursos para poder recopilarla y trabajarla. Por lo que amplía muchísimo las posibilidades para todo tipo de análisis y desafíos científicos y laborales.\n",
        "\n",
        "## <font color='purple'>Fin reflexión grupal</font>\n"
      ],
      "metadata": {
        "id": "GrsaIk5dHCUO"
      }
    },
    {
      "cell_type": "markdown",
      "source": [
        "## <font color='purple'>__MATERIAL ADICIONAL:<br>\n",
        "\n",
        "\n",
        "Libros:\n",
        "\n",
        "Algoritmos y estructuras de datos en Python - digital, Walter Bel\n",
        "\n",
        "Aprenda_Python_en_un_día_y_aprenda_bien_Python_para_principiantes\n",
        "\n",
        "Aprende Python, Sergio Delgado Quintero\n",
        "\n",
        "Automate the boring stuff with Python, Al Sweigart\n",
        "\n",
        "\n",
        "\n",
        "Link con material de Python:\n",
        "\n",
        "https://es.py4e.com/book\n",
        "\n",
        "https://www.py4e.com/html3/\n",
        "\n",
        "http://do1.dr-chuck.com/pythonlearn/ES_es/pythonlearn.pdf\n",
        "\n",
        "https://www.dr-chuck.com/#\n",
        "\n",
        "\n",
        "\n",
        "## <font color='purple'>Fin material adicional</font>\n"
      ],
      "metadata": {
        "id": "-VmBpnnG9iNu"
      }
    }
  ]
}