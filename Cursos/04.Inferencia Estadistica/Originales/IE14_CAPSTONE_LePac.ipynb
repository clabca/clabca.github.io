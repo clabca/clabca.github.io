{
  "nbformat": 4,
  "nbformat_minor": 0,
  "metadata": {
    "colab": {
      "provenance": []
    },
    "kernelspec": {
      "name": "python3",
      "display_name": "Python 3"
    },
    "language_info": {
      "name": "python"
    }
  },
  "cells": [
    {
      "cell_type": "markdown",
      "source": [
        "# **Inferencia Estadística**\n",
        "\n",
        "# AE14 - CAPSTONE - Le Pac"
      ],
      "metadata": {
        "id": "_XyKRBiM5sTr"
      }
    },
    {
      "cell_type": "markdown",
      "source": [
        "## <font color='blue'>**Contexto**</font>\n",
        "\n",
        "**¿Cómo pasas de ser el pisco más querido al más criticado?**. Esa pregunta se repitió más de una vez en Capel. Los reconocimientos, premios internacionales y números de venta en el extranjero no coincidían con las constantes críticas y malos comentarios que la marca de pisco acumuló durante años.\n",
        "\n",
        "Fue entonces que desde la pisquera se propusieron darle una vuelta al desprestigio que cargaba sobre sus espaldas y encontrar una solución. Un agencia especializada determinó que lo mejor era hacer un experimento que revelara si los consumidores consideraban realmente que el pisco era malo o si todo era parte de un prejuicio social que se había arraigado con el tiempo.\n",
        "\n",
        "Decidieron entonces dar un giro en 180°. Crearon una marca con las letras de Capel, pero al revés: **Le Pac**. En \"nuevo pisco\" tendría una nueva imagen, nuevos colores, un nuevo diseño, una nueva botella y sus propias redes. Nada que pudiera relacionarse con la marca a excepción de una cosa: **el brebaje era exactamente el mismo de siempre**.\n",
        "\n",
        "Lanzaron el pisco y ofrecieron muestras gratis a cambio de su opinión. En las primeras 24 horas había más de 800 solicitudes en la página web. Entonces las críticas positivas se empezaron a multiplicar. “Tiene buena textura\",  \"Tiene buen color\", \"Súper rico\",  \"Me dejó cero caña”, etc. Esos fueron algunos de los comentarios que recopilaron y que mostraron en el video de la campaña, donde revelan todos los detalles del experimento.\n",
        "\n",
        "[Le Pac: Un experimento de Pisco Capel.](https://www.youtube.com/watch?v=P4iFsx0l7uY)\n",
        "\n",
        "A partir de esta experiencia, se le solicita recrear un experimento similar en el que deberá crear un set experimental, aproximar sus datos a algún tipo de distribución, probar intervalos de confianza, realizar test de hipótesis y concluir cómo, con sus resultados, podría apoyar la toma de decisiones en Capel.\n",
        "\n",
        "__Recomendaciones__\n",
        "\n",
        "\n",
        "- Aplique la mayor cantidad de conocimientos adquiridos en el presente módulo que estime conveniente.\n",
        "- Desarrolle las pruebas de hipótesis con la secuencia de pasos entregada.\n",
        "- Utilice las mayor cantidad de visualizaciones posibles.\n",
        "- Dado que estamos creando desde cero un escenario de trabajo, realice y especifique todos los supuestos que hagan falta."
      ],
      "metadata": {
        "id": "90__kBnC5_gN"
      }
    },
    {
      "cell_type": "markdown",
      "source": [
        "## <font color='green'>**Actividad 1**</font>\n",
        "### Creando los datasets y ajustando sus distribuciones.\n",
        "\n",
        "Crear 3 datasets con respuestas de clientes a una encuesta de satisfacción de producto. Las encuestas tienen una escala de 1 a 7 (discreta), donde nota 1 es muy baja satisfacción y la nota 7 es muy alta satisfacción con el producto.\n",
        "Los datasets son los siguientes:\n",
        "\n",
        "1. **Capel**: crear un conjunto con 800 encuestas de satisfacción, que representan la historia del último trimestre de Capel. La satisfacción en promedio fue de **4.50** puntos y tuvo una distribición similar a la de la siguiente figura para que la use de referencia.\n",
        "\n",
        "<img src='https://drive.google.com/uc?export=view&id=1lXuvNG6KX4kWeCFnhO2hStObaaAXXB4o' width=\"400\" align=\"center\" style=\"margin-right: 20px\">\n",
        "<br>\n",
        "\n",
        "\n",
        "2. **Competencia**: crear un dataset con 500 encuestas de satisfacción, que representan la historia del último trimestre de la principal marca de la competencia. La satisfacción en promedio fue de **6.10** puntos y tuvo una distribición similar a la que se muestra en la siguiente figura, la que puede usar como referencia.\n",
        "\n",
        "<img src='https://drive.google.com/uc?export=view&id=1WBVhJ4K3p_BGKXvDn3ECGXUcOVdz7eTU' width=\"400\" align=\"center\" style=\"margin-right: 20px\">\n",
        "<br>\n",
        "\n",
        "3. **Le Pac**: crear un dataset con 320 encuestas de satisfacción, que representan la satisfacción de clientes de este nuevo producto, estas encuestas fueron realizadas durante 1 mes. La satisfacción en promedio fue de **6.15** puntos y tuvo una distribición similar a la de la siguiente figura para que la use de referencia.\n",
        "\n",
        "<img src='https://drive.google.com/uc?export=view&id=1WuVRmYEQ9unCcYb076uV9dDEwr1EVmgp' width=\"400\" align=\"center\" style=\"margin-right: 20px\">\n",
        "<br>\n"
      ],
      "metadata": {
        "id": "zckW-Z74DbDM"
      }
    },
    {
      "cell_type": "code",
      "source": [
        "# Tu código aquí ...\n",
        "\n"
      ],
      "metadata": {
        "id": "Foygvj-02HiT"
      },
      "execution_count": null,
      "outputs": []
    },
    {
      "cell_type": "markdown",
      "source": [
        "## <font color='green'>**Actividad 2**</font>\n",
        "### Estudiando los datasets\n",
        "\n",
        "Para cada uno de los datasets creados se pide:\n",
        "\n",
        "1. Graficar el correspondiente histograma y su función de masa de probabilidad y/o distribución de probabilidad según corresponda.\n",
        "\n",
        "2. Calcular la media y desviación estandar de la muestra.\n",
        "\n",
        "3. Calcular el porcentaje de notas 6 y 7. Este indicador en Marketing es conocido como el **Top 2 Box Score**, que corresponde a una proproción de las personas que han manifestado satisfacción por el producto/servicio.\n",
        "\n",
        "4. Calcular el intervalo de confianza para la media y proporción Top2Box. Ambas con un nivel de significancia alpha del 0.05.\n",
        "\n",
        "\n"
      ],
      "metadata": {
        "id": "n12LjC1UJE6T"
      }
    },
    {
      "cell_type": "code",
      "source": [
        "# Tu código aquí ...\n",
        "\n"
      ],
      "metadata": {
        "id": "YzzdpV6Z2Gpw"
      },
      "execution_count": null,
      "outputs": []
    },
    {
      "cell_type": "markdown",
      "source": [
        "## <font color='green'>**Actividad 3**</font>\n",
        "### Creando nuestro test de hipótesis\n",
        "\n",
        "Desarrollar un test de hipótesis de 1 muestra para al menos 1 de los 3 datasets. Aquí Ud. puede formular la hipótesis a probar. Por ejemplo, puede ser contra un target definido por la industria o retail.\n",
        "\n"
      ],
      "metadata": {
        "id": "vhClPJwd9wJq"
      }
    },
    {
      "cell_type": "code",
      "source": [
        "# Tu código aquí ...\n",
        "\n"
      ],
      "metadata": {
        "id": "8Qjz8x332F9K"
      },
      "execution_count": null,
      "outputs": []
    },
    {
      "cell_type": "markdown",
      "source": [
        "## <font color='green'>**Actividad 4**</font>\n",
        "### Validación de algunos test de hipótesis\n",
        "\n",
        "Desarrollar los siguientes test de hipótesis de 2 muestras para:\n",
        "\n",
        "1. Verificar si la satisfacción de Le Pac es mayor a la del producto Capel.\n",
        "\n",
        "2. Verificar si la satisfacción de Le Pac es mayor a la Competencia."
      ],
      "metadata": {
        "id": "goHBxtDV9-mx"
      }
    },
    {
      "cell_type": "code",
      "source": [
        "# Tu código aquí ...\n",
        "\n"
      ],
      "metadata": {
        "id": "Vxq8EGlB2FHP"
      },
      "execution_count": null,
      "outputs": []
    },
    {
      "cell_type": "markdown",
      "source": [
        "## <font color='green'>**Actividad 5**</font>\n",
        "### Conclusiones\n",
        "\n",
        "A partir de los análisis del punto anterior concluya acciones a ejecutar para la compañía Capel."
      ],
      "metadata": {
        "id": "dPMjl13i-BXl"
      }
    },
    {
      "cell_type": "code",
      "source": [
        "# Tu código aquí ...\n",
        "\n"
      ],
      "metadata": {
        "id": "4YaUbAXww4kB"
      },
      "execution_count": null,
      "outputs": []
    },
    {
      "cell_type": "code",
      "source": [],
      "metadata": {
        "id": "YlhcSA3QxHaH"
      },
      "execution_count": null,
      "outputs": []
    }
  ]
}