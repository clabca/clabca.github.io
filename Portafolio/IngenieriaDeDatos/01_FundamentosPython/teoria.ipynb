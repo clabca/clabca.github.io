{
  "cells": [
    {
      "cell_type": "markdown",
      "id": "4e2b68f4",
      "metadata": {},
      "source": [
        "# Fundamentos de programación Python para Ingenieros de Datos\n",
        "Este notebook cubre Python desde lo más básico hasta conceptos avanzados para ingeniería de datos, incluyendo manipulación de datos, análisis y preparación para Machine Learning."
      ]
    },
    {
      "cell_type": "markdown",
      "id": "bcbef318",
      "metadata": {},
      "source": [
        "## Introducción\n",
        "Python es el lenguaje más usado en ciencia de datos e ingeniería de datos.\n",
        "En este notebook veremos:\n",
        "- Sintaxis básica y estructuras de datos\n",
        "- Funciones y bucles\n",
        "- Librerías clave: Pandas, NumPy, Matplotlib, Seaborn\n",
        "- Manejo y limpieza de datos\n",
        "- Preparación de datos para Machine Learning"
      ]
    },
    {
      "cell_type": "code",
      "execution_count": 1,
      "id": "45b2a5a5",
      "metadata": {},
      "outputs": [
        {
          "name": "stdout",
          "output_type": "stream",
          "text": [
            "42 3.14 Cristian True\n",
            "[1, 2, 3] (4, 5, 6) {'nombre': 'Ana', 'edad': 28} {1, 2, 3}\n"
          ]
        }
      ],
      "source": [
        "# Variables y Tipos de Datos\n",
        "x = 42\n",
        "y = 3.14\n",
        "nombre = \"Cristian\"\n",
        "activo = True\n",
        "\n",
        "lista = [1,2,3]\n",
        "tupla = (4,5,6)\n",
        "diccionario = {\"nombre\": \"Ana\", \"edad\": 28}\n",
        "conjunto = {1,2,3,3}\n",
        "\n",
        "print(x, y, nombre, activo)\n",
        "print(lista, tupla, diccionario, conjunto)"
      ]
    },
    {
      "cell_type": "code",
      "execution_count": 2,
      "id": "1b50e63e",
      "metadata": {},
      "outputs": [
        {
          "name": "stdout",
          "output_type": "stream",
          "text": [
            "Suma: 13\n",
            "Resta: 7\n",
            "Multiplicación: 30\n",
            "División: 3.3333333333333335\n",
            "División entera: 3\n",
            "Módulo: 1\n",
            "Potencia: 1000\n",
            "a es mayor que b\n"
          ]
        }
      ],
      "source": [
        "# Operaciones y condicionales\n",
        "a = 10\n",
        "b = 3\n",
        "\n",
        "print(\"Suma:\", a+b)\n",
        "print(\"Resta:\", a-b)\n",
        "print(\"Multiplicación:\", a*b)\n",
        "print(\"División:\", a/b)\n",
        "print(\"División entera:\", a//b)\n",
        "print(\"Módulo:\", a%b)\n",
        "print(\"Potencia:\", a**b)\n",
        "\n",
        "if a > b:\n",
        "    print(\"a es mayor que b\")\n",
        "else:\n",
        "    print(\"b es mayor o igual a a\")"
      ]
    },
    {
      "cell_type": "code",
      "execution_count": 3,
      "id": "b0cfdcbd",
      "metadata": {},
      "outputs": [
        {
          "name": "stdout",
          "output_type": "stream",
          "text": [
            "Iteración: 0\n",
            "Iteración: 1\n",
            "Iteración: 2\n",
            "Iteración: 3\n",
            "Iteración: 4\n",
            "Contador: 0\n",
            "Contador: 1\n",
            "Contador: 2\n"
          ]
        }
      ],
      "source": [
        "# Bucles\n",
        "for i in range(5):\n",
        "    print(\"Iteración:\", i)\n",
        "\n",
        "contador = 0\n",
        "while contador < 3:\n",
        "    print(\"Contador:\", contador)\n",
        "    contador += 1"
      ]
    },
    {
      "cell_type": "code",
      "execution_count": 4,
      "id": "bb2ec516",
      "metadata": {},
      "outputs": [
        {
          "name": "stdout",
          "output_type": "stream",
          "text": [
            "Resultado: 35\n",
            "Hola Cristian!\n",
            "Hola Usuario!\n"
          ]
        }
      ],
      "source": [
        "# Funciones\n",
        "def multiplicar(a,b):\n",
        "    return a*b\n",
        "\n",
        "resultado = multiplicar(5,7)\n",
        "print(\"Resultado:\", resultado)\n",
        "\n",
        "def saludar(nombre=\"Usuario\"):\n",
        "    print(f\"Hola {nombre}!\")\n",
        "\n",
        "saludar(\"Cristian\")\n",
        "saludar()"
      ]
    },
    {
      "cell_type": "code",
      "execution_count": 5,
      "id": "641a726b",
      "metadata": {},
      "outputs": [
        {
          "name": "stdout",
          "output_type": "stream",
          "text": [
            "[1, 4, 9, 16, 25]\n",
            "[2, 4]\n"
          ]
        }
      ],
      "source": [
        "# Manejo avanzado de listas\n",
        "numeros = [1,2,3,4,5]\n",
        "cuadrados = [x**2 for x in numeros]\n",
        "pares = [x for x in numeros if x%2==0]\n",
        "print(cuadrados)\n",
        "print(pares)"
      ]
    },
    {
      "cell_type": "code",
      "execution_count": 6,
      "id": "6b7267a6",
      "metadata": {},
      "outputs": [
        {
          "name": "stdout",
          "output_type": "stream",
          "text": [
            "  Nombre  Edad      Ciudad  Salario\n",
            "0    Ana    28    Santiago    50000\n",
            "1   Luis    34  Valparaíso    60000\n",
            "2  María    29  Concepción    55000\n",
            "3  Pedro    40    Santiago    65000\n",
            "<class 'pandas.core.frame.DataFrame'>\n",
            "RangeIndex: 4 entries, 0 to 3\n",
            "Data columns (total 4 columns):\n",
            " #   Column   Non-Null Count  Dtype \n",
            "---  ------   --------------  ----- \n",
            " 0   Nombre   4 non-null      object\n",
            " 1   Edad     4 non-null      int64 \n",
            " 2   Ciudad   4 non-null      object\n",
            " 3   Salario  4 non-null      int64 \n",
            "dtypes: int64(2), object(2)\n",
            "memory usage: 260.0+ bytes\n",
            "None\n",
            "        Edad       Salario\n",
            "count   4.00      4.000000\n",
            "mean   32.75  57500.000000\n",
            "std     5.50   6454.972244\n",
            "min    28.00  50000.000000\n",
            "25%    28.75  53750.000000\n",
            "50%    31.50  57500.000000\n",
            "75%    35.50  61250.000000\n",
            "max    40.00  65000.000000\n"
          ]
        }
      ],
      "source": [
        "# Pandas - creación y exploración\n",
        "import pandas as pd\n",
        "data = {\n",
        "    \"Nombre\": [\"Ana\", \"Luis\", \"María\", \"Pedro\"],\n",
        "    \"Edad\": [28, 34, 29, 40],\n",
        "    \"Ciudad\": [\"Santiago\", \"Valparaíso\", \"Concepción\", \"Santiago\"],\n",
        "    \"Salario\": [50000, 60000, 55000, 65000]\n",
        "}\n",
        "df = pd.DataFrame(data)\n",
        "print(df)\n",
        "print(df.info())\n",
        "print(df.describe())"
      ]
    },
    {
      "cell_type": "code",
      "execution_count": 7,
      "id": "aa22ee78",
      "metadata": {},
      "outputs": [
        {
          "name": "stdout",
          "output_type": "stream",
          "text": [
            "0      Ana\n",
            "1     Luis\n",
            "2    María\n",
            "3    Pedro\n",
            "Name: Nombre, dtype: object\n",
            "  Nombre  Edad      Ciudad  Salario\n",
            "1   Luis    34  Valparaíso    60000\n",
            "3  Pedro    40    Santiago    65000\n",
            "  Nombre  Edad      Ciudad  Salario\n",
            "1   Luis    34  Valparaíso    60000\n",
            "2  María    29  Concepción    55000\n",
            "  Nombre  Edad    Ciudad  Salario\n",
            "3  Pedro    40  Santiago    65000\n"
          ]
        }
      ],
      "source": [
        "# Selección y filtrado\n",
        "print(df[\"Nombre\"])\n",
        "mayores_30 = df[df[\"Edad\"] > 30]\n",
        "print(mayores_30)\n",
        "print(df.iloc[1:3])\n",
        "santiago_mayor_30 = df[(df[\"Ciudad\"]==\"Santiago\") & (df[\"Edad\"]>30)]\n",
        "print(santiago_mayor_30)"
      ]
    },
    {
      "cell_type": "code",
      "execution_count": 8,
      "id": "e6eb212d",
      "metadata": {},
      "outputs": [
        {
          "name": "stdout",
          "output_type": "stream",
          "text": [
            "  Nombre  Edad      Ciudad  Salario\n",
            "0    Ana    28    Santiago  50000.0\n",
            "1   Luis    34  Valparaíso  60000.0\n",
            "2  María    29  Concepción      NaN\n",
            "3  Pedro    40    Santiago  65000.0\n",
            "   Nombre   Edad  Ciudad  Salario\n",
            "0   False  False   False    False\n",
            "1   False  False   False    False\n",
            "2   False  False   False     True\n",
            "3   False  False   False    False\n",
            "  Nombre  Edad      Ciudad       Salario\n",
            "0    Ana    28    Santiago  50000.000000\n",
            "1   Luis    34  Valparaíso  60000.000000\n",
            "2  María    29  Concepción  58333.333333\n",
            "3  Pedro    40    Santiago  65000.000000\n"
          ]
        },
        {
          "name": "stderr",
          "output_type": "stream",
          "text": [
            "C:\\Users\\clabra\\AppData\\Local\\Temp\\ipykernel_4780\\4070153218.py:5: FutureWarning: A value is trying to be set on a copy of a DataFrame or Series through chained assignment using an inplace method.\n",
            "The behavior will change in pandas 3.0. This inplace method will never work because the intermediate object on which we are setting values always behaves as a copy.\n",
            "\n",
            "For example, when doing 'df[col].method(value, inplace=True)', try using 'df.method({col: value}, inplace=True)' or df[col] = df[col].method(value) instead, to perform the operation inplace on the original object.\n",
            "\n",
            "\n",
            "  df[\"Salario\"].fillna(df[\"Salario\"].mean(), inplace=True)\n"
          ]
        }
      ],
      "source": [
        "# Limpieza de datos\n",
        "df.loc[2, \"Salario\"] = None\n",
        "print(df)\n",
        "print(df.isnull())\n",
        "df[\"Salario\"].fillna(df[\"Salario\"].mean(), inplace=True)\n",
        "df = df.drop_duplicates()\n",
        "print(df)"
      ]
    },
    {
      "cell_type": "code",
      "execution_count": 9,
      "id": "fe271862",
      "metadata": {},
      "outputs": [
        {
          "name": "stdout",
          "output_type": "stream",
          "text": [
            "  Nombre  Edad      Ciudad       Salario  Salario_anual  Edad_doble\n",
            "0    Ana    28    Santiago  50000.000000       600000.0          56\n",
            "1   Luis    34  Valparaíso  60000.000000       720000.0          68\n",
            "2  María    29  Concepción  58333.333333       700000.0          58\n",
            "3  Pedro    40    Santiago  65000.000000       780000.0          80\n",
            "Promedio Edad: 32.75\n",
            "Salario máximo: 65000.0\n"
          ]
        }
      ],
      "source": [
        "# Operaciones con columnas\n",
        "df['Salario_anual'] = df['Salario'] * 12\n",
        "df['Edad_doble'] = df['Edad'].apply(lambda x: x*2)\n",
        "print(df)\n",
        "print('Promedio Edad:', df['Edad'].mean())\n",
        "print('Salario máximo:', df['Salario'].max())"
      ]
    },
    {
      "cell_type": "code",
      "execution_count": 11,
      "id": "58387671",
      "metadata": {},
      "outputs": [
        {
          "name": "stdout",
          "output_type": "stream",
          "text": [
            "            Edad       Salario  Salario_anual  Edad_doble\n",
            "Ciudad                                                   \n",
            "Concepción  29.0  58333.333333       700000.0        58.0\n",
            "Santiago    34.0  57500.000000       690000.0        68.0\n",
            "Valparaíso  34.0  60000.000000       720000.0        68.0\n",
            "                 Salario\n",
            "Ciudad                  \n",
            "Concepción  58333.333333\n",
            "Santiago    57500.000000\n",
            "Valparaíso  60000.000000\n"
          ]
        }
      ],
      "source": [
        "# Agrupación y pivot\n",
        "grouped = df.groupby('Ciudad').mean(numeric_only=True)\n",
        "print(grouped)\n",
        "pivot = df.pivot_table(values='Salario', index='Ciudad', aggfunc='mean')\n",
        "print(pivot)"
      ]
    },
    {
      "cell_type": "code",
      "execution_count": 12,
      "id": "ca7838d9",
      "metadata": {},
      "outputs": [
        {
          "data": {
            "image/png": "[encoded data removed]",
            "text/plain": [
              "<Figure size 640x480 with 1 Axes>"
            ]
          },
          "metadata": {},
          "output_type": "display_data"
        },
        {
          "data": {
            "image/png": "[encoded data removed]",
            "text/plain": [
              "<Figure size 640x480 with 1 Axes>"
            ]
          },
          "metadata": {},
          "output_type": "display_data"
        },
        {
          "data": {
            "image/png": "[encoded data removed]",
            "text/plain": [
              "<Figure size 640x480 with 1 Axes>"
            ]
          },
          "metadata": {},
          "output_type": "display_data"
        }
      ],
      "source": [
        "# Visualización\n",
        "import matplotlib.pyplot as plt\n",
        "import seaborn as sns\n",
        "plt.bar(df['Nombre'], df['Salario'], color='skyblue')\n",
        "plt.title('Salario por Persona')\n",
        "plt.xlabel('Nombre')\n",
        "plt.ylabel('Salario')\n",
        "plt.show()\n",
        "sns.scatterplot(data=df, x='Edad', y='Salario', hue='Ciudad', s=100)\n",
        "plt.title('Edad vs Salario')\n",
        "plt.show()\n",
        "plt.hist(df['Edad'], bins=5, color='green', alpha=0.7)\n",
        "plt.title('Distribución de edades')\n",
        "plt.show()"
      ]
    },
    {
      "cell_type": "code",
      "execution_count": 13,
      "id": "81499028",
      "metadata": {},
      "outputs": [
        {
          "name": "stdout",
          "output_type": "stream",
          "text": [
            "  Nombre  Edad      Ciudad       Salario  Salario_anual  Edad_doble\n",
            "0    Ana    28    Santiago  50000.000000       600000.0          56\n",
            "1   Luis    34  Valparaíso  60000.000000       720000.0          68\n",
            "2  María    29  Concepción  58333.333333       700000.0          58\n",
            "3  Pedro    40    Santiago  65000.000000       780000.0          80\n"
          ]
        }
      ],
      "source": [
        "# Manejo de archivos CSV\n",
        "df.to_csv('personas.csv', index=False)\n",
        "df_csv = pd.read_csv('personas.csv')\n",
        "print(df_csv)"
      ]
    },
    {
      "cell_type": "code",
      "execution_count": 15,
      "id": "b6ab1c9e",
      "metadata": {},
      "outputs": [
        {
          "name": "stdout",
          "output_type": "stream",
          "text": [
            "X_train shape: (2, 5)\n",
            "X_test shape: (2, 5)\n"
          ]
        }
      ],
      "source": [
        "from sklearn.preprocessing import StandardScaler, OneHotEncoder\n",
        "from sklearn.model_selection import train_test_split\n",
        "import pandas as pd\n",
        "\n",
        "# Escalar la columna 'Salario'\n",
        "scaler = StandardScaler()\n",
        "df['Salario_scaled'] = scaler.fit_transform(df[['Salario']])\n",
        "\n",
        "# One-hot encoding de 'Ciudad'\n",
        "encoder = OneHotEncoder(sparse_output=False)  # usar sparse_output en versiones recientes\n",
        "ciudad_encoded = encoder.fit_transform(df[['Ciudad']])\n",
        "df_ciudad = pd.DataFrame(ciudad_encoded, columns=encoder.get_feature_names_out(), index=df.index)\n",
        "\n",
        "# Concatenar con df original\n",
        "df_encoded = pd.concat([df, df_ciudad], axis=1)\n",
        "\n",
        "# Definir X e y\n",
        "X = df_encoded[['Edad','Salario_scaled'] + list(encoder.get_feature_names_out())]\n",
        "y = df_encoded['Salario']\n",
        "\n",
        "# Dividir train/test\n",
        "X_train, X_test, y_train, y_test = train_test_split(X, y, test_size=0.3, random_state=42)\n",
        "\n",
        "print('X_train shape:', X_train.shape)\n",
        "print('X_test shape:', X_test.shape)"
      ]
    },
    {
      "cell_type": "code",
      "execution_count": 16,
      "id": "79f21ec0",
      "metadata": {},
      "outputs": [
        {
          "name": "stdout",
          "output_type": "stream",
          "text": [
            "MSE: 66099537.94345678\n"
          ]
        }
      ],
      "source": [
        "# Modelo de regresión lineal\n",
        "from sklearn.linear_model import LinearRegression\n",
        "from sklearn.metrics import mean_squared_error\n",
        "model = LinearRegression()\n",
        "model.fit(X_train, y_train)\n",
        "y_pred = model.predict(X_test)\n",
        "mse = mean_squared_error(y_test, y_pred)\n",
        "print('MSE:', mse)"
      ]
    }
  ],
  "metadata": {
    "kernelspec": {
      "display_name": "Python 3",
      "name": "python3"
    },
    "language_info": {
      "codemirror_mode": {
        "name": "ipython",
        "version": 3
      },
      "file_extension": ".py",
      "mimetype": "text/x-python",
      "name": "python",
      "nbconvert_exporter": "python",
      "pygments_lexer": "ipython3",
      "version": "3.11.9"
    }
  },
  "nbformat": 4,
  "nbformat_minor": 5
}
