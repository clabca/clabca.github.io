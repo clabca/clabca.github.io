{
  "cells": [
    {
      "cell_type": "markdown",
      "id": "3cff9342",
      "metadata": {},
      "source": [
        "# PyLearningHub: Capacitación Integral en Python\n",
        "Este notebook resume el proyecto PyLearningHub y sirve como entregable de portafolio, cubriendo desde conceptos básicos hasta Python avanzado."
      ]
    },
    {
      "cell_type": "markdown",
      "id": "942faeca",
      "metadata": {},
      "source": [
        "## Situación Inicial 📍\n",
        "El Departamento de Formación y Capacitación solicitó un curso intensivo en Python. Los participantes aprenderán desde fundamentos hasta técnicas avanzadas de programación, POO, estructuras de datos, manejo de excepciones y desarrollo de módulos."
      ]
    },
    {
      "cell_type": "markdown",
      "id": "0740f160",
      "metadata": {},
      "source": [
        "## Objetivos del Curso 📋\n",
        "- Programación Orientada a Objetos (POO)\n",
        "- Estructuras de Datos y Sentencias Iterativas\n",
        "- Funciones y Módulos\n",
        "- Manejo de Excepciones\n",
        "- Sentencias Básicas de Python\n",
        "- Uso Avanzado del Lenguaje"
      ]
    },
    {
      "cell_type": "markdown",
      "id": "47a37341",
      "metadata": {},
      "source": [
        "## 1. Sentencias Básicas"
      ]
    },
    {
      "cell_type": "code",
      "execution_count": 1,
      "id": "0d2d0ae4",
      "metadata": {},
      "outputs": [
        {
          "name": "stdout",
          "output_type": "stream",
          "text": [
            "10 3.5 Ana True\n"
          ]
        }
      ],
      "source": [
        "# Variables y Tipos de Datos\n",
        "x = 10\n",
        "y = 3.5\n",
        "nombre = 'Ana'\n",
        "activo = True\n",
        "print(x, y, nombre, activo)"
      ]
    },
    {
      "cell_type": "code",
      "execution_count": 2,
      "id": "81d3576b",
      "metadata": {},
      "outputs": [
        {
          "name": "stdout",
          "output_type": "stream",
          "text": [
            "x es mayor que y\n"
          ]
        }
      ],
      "source": [
        "# Condicionales\n",
        "if x > y:\n",
        "    print('x es mayor que y')\n",
        "else:\n",
        "    print('y es mayor o igual a x')"
      ]
    },
    {
      "cell_type": "code",
      "execution_count": 3,
      "id": "8fceb6ca",
      "metadata": {},
      "outputs": [
        {
          "name": "stdout",
          "output_type": "stream",
          "text": [
            "Iteración 0\n",
            "Iteración 1\n",
            "Iteración 2\n",
            "Iteración 3\n",
            "Iteración 4\n",
            "Contador 0\n",
            "Contador 1\n",
            "Contador 2\n"
          ]
        }
      ],
      "source": [
        "# Bucles\n",
        "for i in range(5):\n",
        "    print('Iteración', i)\n",
        "\n",
        "contador = 0\n",
        "while contador < 3:\n",
        "    print('Contador', contador)\n",
        "    contador += 1"
      ]
    },
    {
      "cell_type": "markdown",
      "id": "d41ef033",
      "metadata": {},
      "source": [
        "## 2. Funciones y Módulos"
      ]
    },
    {
      "cell_type": "code",
      "execution_count": 4,
      "id": "a01575b2",
      "metadata": {},
      "outputs": [
        {
          "name": "stdout",
          "output_type": "stream",
          "text": [
            "Hola Cristian!\n",
            "Hola Usuario!\n"
          ]
        }
      ],
      "source": [
        "# Funciones\n",
        "def saludar(nombre='Usuario'):\n",
        "    print(f'Hola {nombre}!')\n",
        "\n",
        "saludar('Cristian')\n",
        "saludar()"
      ]
    },
    {
      "cell_type": "code",
      "execution_count": 5,
      "id": "778ae7f0",
      "metadata": {},
      "outputs": [
        {
          "name": "stdout",
          "output_type": "stream",
          "text": [
            "Resultado: 35\n"
          ]
        }
      ],
      "source": [
        "# Función con retorno\n",
        "def multiplicar(a, b):\n",
        "    return a*b\n",
        "\n",
        "resultado = multiplicar(5,7)\n",
        "print('Resultado:', resultado)"
      ]
    },
    {
      "cell_type": "markdown",
      "id": "b59a78f8",
      "metadata": {},
      "source": [
        "## 3. Estructuras de Datos"
      ]
    },
    {
      "cell_type": "code",
      "execution_count": 6,
      "id": "9717f9e3",
      "metadata": {},
      "outputs": [
        {
          "name": "stdout",
          "output_type": "stream",
          "text": [
            "Lista: [1, 2, 3, 4, 5]\n",
            "Cuadrados: [1, 4, 9, 16, 25]\n"
          ]
        }
      ],
      "source": [
        "# Listas\n",
        "numeros = [1,2,3,4,5]\n",
        "print('Lista:', numeros)\n",
        "print('Cuadrados:', [x**2 for x in numeros])"
      ]
    },
    {
      "cell_type": "code",
      "execution_count": 7,
      "id": "2be0c2d9",
      "metadata": {},
      "outputs": [
        {
          "name": "stdout",
          "output_type": "stream",
          "text": [
            "{'nombre': 'Ana', 'edad': 28}\n",
            "Edad: 28\n"
          ]
        }
      ],
      "source": [
        "# Diccionarios\n",
        "persona = {'nombre':'Ana','edad':28}\n",
        "print(persona)\n",
        "print('Edad:', persona['edad'])"
      ]
    },
    {
      "cell_type": "code",
      "execution_count": 8,
      "id": "b8ac395f",
      "metadata": {},
      "outputs": [
        {
          "name": "stdout",
          "output_type": "stream",
          "text": [
            "{1, 2, 3}\n"
          ]
        }
      ],
      "source": [
        "# Conjuntos\n",
        "conjunto = {1,2,2,3}\n",
        "print(conjunto)"
      ]
    },
    {
      "cell_type": "markdown",
      "id": "8bcb2f1b",
      "metadata": {},
      "source": [
        "## 4. Programación Orientada a Objetos"
      ]
    },
    {
      "cell_type": "code",
      "execution_count": 9,
      "id": "5a3aae96",
      "metadata": {},
      "outputs": [
        {
          "name": "stdout",
          "output_type": "stream",
          "text": [
            "Hola, mi nombre es Luis y tengo 34 años.\n"
          ]
        }
      ],
      "source": [
        "class Persona:\n",
        "    def __init__(self, nombre, edad):\n",
        "        self.nombre = nombre\n",
        "        self.edad = edad\n",
        "    def saludar(self):\n",
        "        print(f'Hola, mi nombre es {self.nombre} y tengo {self.edad} años.')\n",
        "\n",
        "# Instancia\n",
        "p = Persona('Luis', 34)\n",
        "p.saludar()"
      ]
    },
    {
      "cell_type": "code",
      "execution_count": 10,
      "id": "55b0123c",
      "metadata": {},
      "outputs": [
        {
          "name": "stdout",
          "output_type": "stream",
          "text": [
            "Hola, mi nombre es María y tengo 29 años.\n",
            "Estudio Python\n"
          ]
        }
      ],
      "source": [
        "# Herencia\n",
        "class Estudiante(Persona):\n",
        "    def __init__(self, nombre, edad, curso):\n",
        "        super().__init__(nombre, edad)\n",
        "        self.curso = curso\n",
        "    def info_curso(self):\n",
        "        print(f'Estudio {self.curso}')\n",
        "\n",
        "e = Estudiante('María', 29, 'Python')\n",
        "e.saludar()\n",
        "e.info_curso()"
      ]
    },
    {
      "cell_type": "markdown",
      "id": "36d1bf16",
      "metadata": {},
      "source": [
        "## 5. Manejo de Excepciones"
      ]
    },
    {
      "cell_type": "code",
      "execution_count": 11,
      "id": "e865b546",
      "metadata": {},
      "outputs": [
        {
          "name": "stdout",
          "output_type": "stream",
          "text": [
            "Error: División por cero\n",
            "Proceso finalizado\n"
          ]
        }
      ],
      "source": [
        "try:\n",
        "    resultado = 10 / 0\n",
        "except ZeroDivisionError:\n",
        "    print('Error: División por cero')\n",
        "finally:\n",
        "    print('Proceso finalizado')"
      ]
    },
    {
      "cell_type": "markdown",
      "id": "4abfa5b3",
      "metadata": {},
      "source": [
        "## 6. Librerías para Ingeniería de Datos"
      ]
    },
    {
      "cell_type": "code",
      "execution_count": 12,
      "id": "ab1fcf98",
      "metadata": {},
      "outputs": [],
      "source": [
        "import pandas as pd\n",
        "import numpy as np\n",
        "import matplotlib.pyplot as plt\n",
        "import seaborn as sns"
      ]
    },
    {
      "cell_type": "code",
      "execution_count": 13,
      "id": "eb79c472",
      "metadata": {},
      "outputs": [
        {
          "data": {
            "application/vnd.microsoft.datawrangler.viewer.v0+json": {
              "columns": [
                {
                  "name": "index",
                  "rawType": "int64",
                  "type": "integer"
                },
                {
                  "name": "Nombre",
                  "rawType": "object",
                  "type": "string"
                },
                {
                  "name": "Edad",
                  "rawType": "int64",
                  "type": "integer"
                },
                {
                  "name": "Ciudad",
                  "rawType": "object",
                  "type": "string"
                },
                {
                  "name": "Salario",
                  "rawType": "int64",
                  "type": "integer"
                },
                {
                  "name": "Salario_scaled",
                  "rawType": "float64",
                  "type": "float"
                }
              ],
              "ref": "280c36bc-ac02-4505-ae4f-8f13b0de6c94",
              "rows": [
                [
                  "0",
                  "Ana",
                  "28",
                  "Santiago",
                  "50000",
                  "-1.161895003862225"
                ],
                [
                  "1",
                  "Luis",
                  "34",
                  "Valparaíso",
                  "60000",
                  "0.3872983346207417"
                ],
                [
                  "2",
                  "María",
                  "29",
                  "Concepción",
                  "55000",
                  "-0.3872983346207417"
                ],
                [
                  "3",
                  "Pedro",
                  "40",
                  "Santiago",
                  "65000",
                  "1.161895003862225"
                ]
              ],
              "shape": {
                "columns": 5,
                "rows": 4
              }
            },
            "text/html": [
              "<div>\n",
              "<style scoped>\n",
              "    .dataframe tbody tr th:only-of-type {\n",
              "        vertical-align: middle;\n",
              "    }\n",
              "\n",
              "    .dataframe tbody tr th {\n",
              "        vertical-align: top;\n",
              "    }\n",
              "\n",
              "    .dataframe thead th {\n",
              "        text-align: right;\n",
              "    }\n",
              "</style>\n",
              "<table border=\"1\" class=\"dataframe\">\n",
              "  <thead>\n",
              "    <tr style=\"text-align: right;\">\n",
              "      <th></th>\n",
              "      <th>Nombre</th>\n",
              "      <th>Edad</th>\n",
              "      <th>Ciudad</th>\n",
              "      <th>Salario</th>\n",
              "      <th>Salario_scaled</th>\n",
              "    </tr>\n",
              "  </thead>\n",
              "  <tbody>\n",
              "    <tr>\n",
              "      <th>0</th>\n",
              "      <td>Ana</td>\n",
              "      <td>28</td>\n",
              "      <td>Santiago</td>\n",
              "      <td>50000</td>\n",
              "      <td>-1.161895</td>\n",
              "    </tr>\n",
              "    <tr>\n",
              "      <th>1</th>\n",
              "      <td>Luis</td>\n",
              "      <td>34</td>\n",
              "      <td>Valparaíso</td>\n",
              "      <td>60000</td>\n",
              "      <td>0.387298</td>\n",
              "    </tr>\n",
              "    <tr>\n",
              "      <th>2</th>\n",
              "      <td>María</td>\n",
              "      <td>29</td>\n",
              "      <td>Concepción</td>\n",
              "      <td>55000</td>\n",
              "      <td>-0.387298</td>\n",
              "    </tr>\n",
              "    <tr>\n",
              "      <th>3</th>\n",
              "      <td>Pedro</td>\n",
              "      <td>40</td>\n",
              "      <td>Santiago</td>\n",
              "      <td>65000</td>\n",
              "      <td>1.161895</td>\n",
              "    </tr>\n",
              "  </tbody>\n",
              "</table>\n",
              "</div>"
            ],
            "text/plain": [
              "  Nombre  Edad      Ciudad  Salario  Salario_scaled\n",
              "0    Ana    28    Santiago    50000       -1.161895\n",
              "1   Luis    34  Valparaíso    60000        0.387298\n",
              "2  María    29  Concepción    55000       -0.387298\n",
              "3  Pedro    40    Santiago    65000        1.161895"
            ]
          },
          "execution_count": 13,
          "metadata": {},
          "output_type": "execute_result"
        }
      ],
      "source": [
        "# DataFrame de ejemplo\n",
        "data = {\n",
        "    'Nombre': ['Ana','Luis','María','Pedro'],\n",
        "    'Edad': [28,34,29,40],\n",
        "    'Ciudad': ['Santiago','Valparaíso','Concepción','Santiago'],\n",
        "    'Salario': [50000,60000,55000,65000]\n",
        "}\n",
        "df = pd.DataFrame(data)\n",
        "df['Salario_scaled'] = (df['Salario']-df['Salario'].mean())/df['Salario'].std()\n",
        "df"
      ]
    },
    {
      "cell_type": "code",
      "execution_count": 14,
      "id": "e8c96b07",
      "metadata": {},
      "outputs": [
        {
          "name": "stderr",
          "output_type": "stream",
          "text": [
            "C:\\Users\\clabra\\AppData\\Local\\Temp\\ipykernel_17232\\1470539704.py:3: FutureWarning: \n",
            "\n",
            "Passing `palette` without assigning `hue` is deprecated and will be removed in v0.14.0. Assign the `x` variable to `hue` and set `legend=False` for the same effect.\n",
            "\n",
            "  sns.barplot(x='Nombre', y='Salario', data=df, palette='viridis')\n"
          ]
        },
        {
          "data": {
            "image/png": "[encoded data removed]",
            "text/plain": [
              "<Figure size 800x500 with 1 Axes>"
            ]
          },
          "metadata": {},
          "output_type": "display_data"
        }
      ],
      "source": [
        "# Visualización\n",
        "plt.figure(figsize=(8,5))\n",
        "sns.barplot(x='Nombre', y='Salario', data=df, palette='viridis')\n",
        "plt.title('Salario por Persona')\n",
        "plt.show()"
      ]
    },
    {
      "cell_type": "code",
      "execution_count": 15,
      "id": "5c40b11a",
      "metadata": {},
      "outputs": [
        {
          "data": {
            "application/vnd.microsoft.datawrangler.viewer.v0+json": {
              "columns": [
                {
                  "name": "Ciudad",
                  "rawType": "object",
                  "type": "string"
                },
                {
                  "name": "Edad",
                  "rawType": "float64",
                  "type": "float"
                },
                {
                  "name": "Salario",
                  "rawType": "float64",
                  "type": "float"
                },
                {
                  "name": "Salario_scaled",
                  "rawType": "float64",
                  "type": "float"
                }
              ],
              "ref": "ef9ce3d4-7a05-4cb8-98f5-f319beea1b3e",
              "rows": [
                [
                  "Concepción",
                  "29.0",
                  "55000.0",
                  "-0.3872983346207417"
                ],
                [
                  "Santiago",
                  "34.0",
                  "57500.0",
                  "0.0"
                ],
                [
                  "Valparaíso",
                  "34.0",
                  "60000.0",
                  "0.3872983346207417"
                ]
              ],
              "shape": {
                "columns": 3,
                "rows": 3
              }
            },
            "text/html": [
              "<div>\n",
              "<style scoped>\n",
              "    .dataframe tbody tr th:only-of-type {\n",
              "        vertical-align: middle;\n",
              "    }\n",
              "\n",
              "    .dataframe tbody tr th {\n",
              "        vertical-align: top;\n",
              "    }\n",
              "\n",
              "    .dataframe thead th {\n",
              "        text-align: right;\n",
              "    }\n",
              "</style>\n",
              "<table border=\"1\" class=\"dataframe\">\n",
              "  <thead>\n",
              "    <tr style=\"text-align: right;\">\n",
              "      <th></th>\n",
              "      <th>Edad</th>\n",
              "      <th>Salario</th>\n",
              "      <th>Salario_scaled</th>\n",
              "    </tr>\n",
              "    <tr>\n",
              "      <th>Ciudad</th>\n",
              "      <th></th>\n",
              "      <th></th>\n",
              "      <th></th>\n",
              "    </tr>\n",
              "  </thead>\n",
              "  <tbody>\n",
              "    <tr>\n",
              "      <th>Concepción</th>\n",
              "      <td>29.0</td>\n",
              "      <td>55000.0</td>\n",
              "      <td>-0.387298</td>\n",
              "    </tr>\n",
              "    <tr>\n",
              "      <th>Santiago</th>\n",
              "      <td>34.0</td>\n",
              "      <td>57500.0</td>\n",
              "      <td>0.000000</td>\n",
              "    </tr>\n",
              "    <tr>\n",
              "      <th>Valparaíso</th>\n",
              "      <td>34.0</td>\n",
              "      <td>60000.0</td>\n",
              "      <td>0.387298</td>\n",
              "    </tr>\n",
              "  </tbody>\n",
              "</table>\n",
              "</div>"
            ],
            "text/plain": [
              "            Edad  Salario  Salario_scaled\n",
              "Ciudad                                   \n",
              "Concepción  29.0  55000.0       -0.387298\n",
              "Santiago    34.0  57500.0        0.000000\n",
              "Valparaíso  34.0  60000.0        0.387298"
            ]
          },
          "execution_count": 15,
          "metadata": {},
          "output_type": "execute_result"
        }
      ],
      "source": [
        "# Agrupación\n",
        "grouped = df.groupby('Ciudad')[['Edad','Salario','Salario_scaled']].mean()\n",
        "grouped"
      ]
    },
    {
      "cell_type": "code",
      "execution_count": 16,
      "id": "7a2ea17a",
      "metadata": {},
      "outputs": [
        {
          "name": "stdout",
          "output_type": "stream",
          "text": [
            "MSE: 9645061.728395022\n"
          ]
        }
      ],
      "source": [
        "# Preparación de datos para ML\n",
        "from sklearn.preprocessing import OneHotEncoder\n",
        "from sklearn.model_selection import train_test_split\n",
        "from sklearn.linear_model import LinearRegression\n",
        "from sklearn.metrics import mean_squared_error\n",
        "\n",
        "# One-hot encoding\n",
        "encoder = OneHotEncoder(sparse_output=False)\n",
        "ciudad_encoded = encoder.fit_transform(df[['Ciudad']])\n",
        "df_ciudad = pd.DataFrame(ciudad_encoded, columns=encoder.get_feature_names_out(), index=df.index)\n",
        "df_encoded = pd.concat([df, df_ciudad], axis=1)\n",
        "\n",
        "# Definir X e y\n",
        "X = df_encoded[['Edad','Salario_scaled'] + list(encoder.get_feature_names_out())]\n",
        "y = df_encoded['Salario']\n",
        "\n",
        "# Train/test split\n",
        "X_train, X_test, y_train, y_test = train_test_split(X, y, test_size=0.3, random_state=42)\n",
        "\n",
        "# Modelo de regresión lineal\n",
        "model = LinearRegression()\n",
        "model.fit(X_train, y_train)\n",
        "y_pred = model.predict(X_test)\n",
        "mse = mean_squared_error(y_test, y_pred)\n",
        "print('MSE:', mse)"
      ]
    }
  ],
  "metadata": {
    "kernelspec": {
      "display_name": "Python 3",
      "name": "python3"
    },
    "language_info": {
      "codemirror_mode": {
        "name": "ipython",
        "version": 3
      },
      "file_extension": ".py",
      "mimetype": "text/x-python",
      "name": "python",
      "nbconvert_exporter": "python",
      "pygments_lexer": "ipython3",
      "version": "3.11.9"
    }
  },
  "nbformat": 4,
  "nbformat_minor": 5
}
