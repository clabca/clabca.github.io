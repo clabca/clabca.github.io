{
  "cells": [
    {
      "cell_type": "markdown",
      "id": "a09cb260",
      "metadata": {},
      "source": [
        "# Proyecto: Preparación de Datos con Python\n",
        "Este notebook cubre todo el flujo de trabajo de obtención y preparación de datos usando NumPy y Pandas, desde la generación de datos ficticios hasta el dataset final listo para análisis."
      ]
    },
    {
      "cell_type": "markdown",
      "id": "d01c1ca9",
      "metadata": {},
      "source": [
        "## Lección 1 - NumPy"
      ]
    },
    {
      "cell_type": "code",
      "execution_count": 7,
      "id": "e00d0058",
      "metadata": {},
      "outputs": [
        {
          "name": "stdout",
          "output_type": "stream",
          "text": [
            "Edad promedio: 39.6\n",
            "Salario total: 1492038\n",
            "Número de clientes: 20\n"
          ]
        }
      ],
      "source": [
        "import numpy as np\n",
        "\n",
        "# Generar datos ficticios de clientes y transacciones\n",
        "ids_clientes = np.arange(1, 21)  # 20 clientes\n",
        "edades = np.random.randint(18, 60, size=20)\n",
        "salarios = np.random.randint(30000, 120000, size=20)\n",
        "transacciones = np.random.randint(1, 20, size=20)\n",
        "\n",
        "# Operaciones básicas\n",
        "print('Edad promedio:', edades.mean())\n",
        "print('Salario total:', salarios.sum())\n",
        "print('Número de clientes:', ids_clientes.size)\n",
        "\n",
        "# Guardar datos en archivo .npy\n",
        "np.save('clientes.npy', np.column_stack((ids_clientes, edades, salarios, transacciones)))"
      ]
    },
    {
      "cell_type": "markdown",
      "id": "82474662",
      "metadata": {},
      "source": [
        "## Lección 2 - Pandas"
      ]
    },
    {
      "cell_type": "code",
      "execution_count": 8,
      "id": "cc888666",
      "metadata": {},
      "outputs": [
        {
          "data": {
            "application/vnd.microsoft.datawrangler.viewer.v0+json": {
              "columns": [
                {
                  "name": "index",
                  "rawType": "int64",
                  "type": "integer"
                },
                {
                  "name": "ID",
                  "rawType": "int32",
                  "type": "integer"
                },
                {
                  "name": "Edad",
                  "rawType": "int32",
                  "type": "integer"
                },
                {
                  "name": "Salario",
                  "rawType": "int32",
                  "type": "integer"
                },
                {
                  "name": "Transacciones",
                  "rawType": "int32",
                  "type": "integer"
                }
              ],
              "ref": "cb529d63-f3a3-49ff-9057-87112205b6f5",
              "rows": [
                [
                  "0",
                  "1",
                  "57",
                  "52716",
                  "8"
                ],
                [
                  "1",
                  "2",
                  "56",
                  "48908",
                  "12"
                ],
                [
                  "2",
                  "3",
                  "28",
                  "62591",
                  "10"
                ],
                [
                  "3",
                  "4",
                  "32",
                  "77540",
                  "5"
                ],
                [
                  "4",
                  "5",
                  "47",
                  "72154",
                  "6"
                ]
              ],
              "shape": {
                "columns": 4,
                "rows": 5
              }
            },
            "text/html": [
              "<div>\n",
              "<style scoped>\n",
              "    .dataframe tbody tr th:only-of-type {\n",
              "        vertical-align: middle;\n",
              "    }\n",
              "\n",
              "    .dataframe tbody tr th {\n",
              "        vertical-align: top;\n",
              "    }\n",
              "\n",
              "    .dataframe thead th {\n",
              "        text-align: right;\n",
              "    }\n",
              "</style>\n",
              "<table border=\"1\" class=\"dataframe\">\n",
              "  <thead>\n",
              "    <tr style=\"text-align: right;\">\n",
              "      <th></th>\n",
              "      <th>ID</th>\n",
              "      <th>Edad</th>\n",
              "      <th>Salario</th>\n",
              "      <th>Transacciones</th>\n",
              "    </tr>\n",
              "  </thead>\n",
              "  <tbody>\n",
              "    <tr>\n",
              "      <th>0</th>\n",
              "      <td>1</td>\n",
              "      <td>57</td>\n",
              "      <td>52716</td>\n",
              "      <td>8</td>\n",
              "    </tr>\n",
              "    <tr>\n",
              "      <th>1</th>\n",
              "      <td>2</td>\n",
              "      <td>56</td>\n",
              "      <td>48908</td>\n",
              "      <td>12</td>\n",
              "    </tr>\n",
              "    <tr>\n",
              "      <th>2</th>\n",
              "      <td>3</td>\n",
              "      <td>28</td>\n",
              "      <td>62591</td>\n",
              "      <td>10</td>\n",
              "    </tr>\n",
              "    <tr>\n",
              "      <th>3</th>\n",
              "      <td>4</td>\n",
              "      <td>32</td>\n",
              "      <td>77540</td>\n",
              "      <td>5</td>\n",
              "    </tr>\n",
              "    <tr>\n",
              "      <th>4</th>\n",
              "      <td>5</td>\n",
              "      <td>47</td>\n",
              "      <td>72154</td>\n",
              "      <td>6</td>\n",
              "    </tr>\n",
              "  </tbody>\n",
              "</table>\n",
              "</div>"
            ],
            "text/plain": [
              "   ID  Edad  Salario  Transacciones\n",
              "0   1    57    52716              8\n",
              "1   2    56    48908             12\n",
              "2   3    28    62591             10\n",
              "3   4    32    77540              5\n",
              "4   5    47    72154              6"
            ]
          },
          "execution_count": 8,
          "metadata": {},
          "output_type": "execute_result"
        }
      ],
      "source": [
        "import pandas as pd\n",
        "# Cargar datos de NumPy\n",
        "datos = np.load('clientes.npy')\n",
        "df = pd.DataFrame(datos, columns=['ID','Edad','Salario','Transacciones'])\n",
        "df.head()"
      ]
    },
    {
      "cell_type": "code",
      "execution_count": 9,
      "id": "871a2f5c",
      "metadata": {},
      "outputs": [
        {
          "name": "stdout",
          "output_type": "stream",
          "text": [
            "             ID       Edad        Salario  Transacciones\n",
            "count  20.00000  20.000000      20.000000      20.000000\n",
            "mean   10.50000  39.600000   74601.900000      10.400000\n",
            "std     5.91608  11.654681   24778.824765       4.511972\n",
            "min     1.00000  23.000000   46302.000000       3.000000\n",
            "25%     5.75000  27.750000   54471.750000       6.000000\n",
            "50%    10.50000  40.500000   65739.500000      10.500000\n",
            "75%    15.25000  47.750000   87764.750000      14.250000\n",
            "max    20.00000  57.000000  119770.000000      18.000000\n",
            "    ID  Edad  Salario  Transacciones\n",
            "5    6    41   110884             14\n",
            "6    7    43   114396              9\n",
            "13  14    24   119770              6\n",
            "14  15    23   106862             14\n",
            "16  17    36   114917             11\n"
          ]
        }
      ],
      "source": [
        "# Exploración inicial\n",
        "print(df.describe())\n",
        "print(df[df['Salario']>100000])\n",
        "df.to_csv('clientes_preliminar.csv', index=False)"
      ]
    },
    {
      "cell_type": "markdown",
      "id": "0383a246",
      "metadata": {},
      "source": [
        "## Lección 3 - Obtención de datos desde archivos"
      ]
    },
    {
      "cell_type": "code",
      "execution_count": 10,
      "id": "6ccea116",
      "metadata": {},
      "outputs": [],
      "source": [
        "# Cargar CSV generado\n",
        "df_csv = pd.read_csv('clientes_preliminar.csv')\n",
        "'''\n",
        "# Leer Excel de ejemplo\n",
        "df_excel = pd.read_excel('clientes_ecommerce.xlsx')\n",
        "\n",
        "# Extraer datos de tabla web\n",
        "url = 'https://example.com/clientes.html'  # reemplazar con URL real\n",
        "try:\n",
        "    df_web = pd.read_html(url)[0]\n",
        "except:\n",
        "    df_web = pd.DataFrame()\n",
        "\n",
        "# Unificar DataFrames\n",
        "df_unificado = pd.concat([df_csv, df_excel, df_web], ignore_index=True)\n",
        "df_unificado.head()\n",
        "'''\n",
        "df_unificado = df_csv  # Placeholder since Excel and web data are not available\n",
        "\n",
        "\n",
        "\n"
      ]
    },
    {
      "cell_type": "markdown",
      "id": "3c0b6c74",
      "metadata": {},
      "source": [
        "## Lección 4 - Valores nulos y outliers"
      ]
    },
    {
      "cell_type": "code",
      "execution_count": 11,
      "id": "35c39338",
      "metadata": {},
      "outputs": [
        {
          "name": "stdout",
          "output_type": "stream",
          "text": [
            "ID               0\n",
            "Edad             0\n",
            "Salario          0\n",
            "Transacciones    0\n",
            "dtype: int64\n"
          ]
        },
        {
          "name": "stderr",
          "output_type": "stream",
          "text": [
            "C:\\Users\\clabra\\AppData\\Local\\Temp\\ipykernel_9748\\1046990064.py:4: FutureWarning: A value is trying to be set on a copy of a DataFrame or Series through chained assignment using an inplace method.\n",
            "The behavior will change in pandas 3.0. This inplace method will never work because the intermediate object on which we are setting values always behaves as a copy.\n",
            "\n",
            "For example, when doing 'df[col].method(value, inplace=True)', try using 'df.method({col: value}, inplace=True)' or df[col] = df[col].method(value) instead, to perform the operation inplace on the original object.\n",
            "\n",
            "\n",
            "  df_unificado['Salario'].fillna(df_unificado['Salario'].mean(), inplace=True)\n"
          ]
        }
      ],
      "source": [
        "# Identificar nulos\n",
        "print(df_unificado.isnull().sum())\n",
        "# Imputar nulos\n",
        "df_unificado['Salario'].fillna(df_unificado['Salario'].mean(), inplace=True)\n",
        "# Detectar outliers con IQR\n",
        "Q1 = df_unificado['Salario'].quantile(0.25)\n",
        "Q3 = df_unificado['Salario'].quantile(0.75)\n",
        "IQR = Q3 - Q1\n",
        "df_unificado = df_unificado[(df_unificado['Salario'] >= Q1 - 1.5*IQR) & (df_unificado['Salario'] <= Q3 + 1.5*IQR)]"
      ]
    },
    {
      "cell_type": "markdown",
      "id": "d2cbf375",
      "metadata": {},
      "source": [
        "## Lección 5 - Data Wrangling"
      ]
    },
    {
      "cell_type": "code",
      "execution_count": 12,
      "id": "740424dd",
      "metadata": {},
      "outputs": [
        {
          "data": {
            "application/vnd.microsoft.datawrangler.viewer.v0+json": {
              "columns": [
                {
                  "name": "index",
                  "rawType": "int64",
                  "type": "integer"
                },
                {
                  "name": "ID",
                  "rawType": "int32",
                  "type": "integer"
                },
                {
                  "name": "Edad",
                  "rawType": "int64",
                  "type": "integer"
                },
                {
                  "name": "Salario",
                  "rawType": "int64",
                  "type": "integer"
                },
                {
                  "name": "Transacciones",
                  "rawType": "int64",
                  "type": "integer"
                },
                {
                  "name": "Salario_anual",
                  "rawType": "int64",
                  "type": "integer"
                }
              ],
              "ref": "1aa5d6cf-35c3-4ed5-9b3d-a77bade66cc1",
              "rows": [
                [
                  "0",
                  "1",
                  "57",
                  "52716",
                  "8",
                  "632592"
                ],
                [
                  "1",
                  "2",
                  "56",
                  "48908",
                  "12",
                  "586896"
                ],
                [
                  "2",
                  "3",
                  "28",
                  "62591",
                  "10",
                  "751092"
                ],
                [
                  "3",
                  "4",
                  "32",
                  "77540",
                  "5",
                  "930480"
                ],
                [
                  "4",
                  "5",
                  "47",
                  "72154",
                  "6",
                  "865848"
                ]
              ],
              "shape": {
                "columns": 5,
                "rows": 5
              }
            },
            "text/html": [
              "<div>\n",
              "<style scoped>\n",
              "    .dataframe tbody tr th:only-of-type {\n",
              "        vertical-align: middle;\n",
              "    }\n",
              "\n",
              "    .dataframe tbody tr th {\n",
              "        vertical-align: top;\n",
              "    }\n",
              "\n",
              "    .dataframe thead th {\n",
              "        text-align: right;\n",
              "    }\n",
              "</style>\n",
              "<table border=\"1\" class=\"dataframe\">\n",
              "  <thead>\n",
              "    <tr style=\"text-align: right;\">\n",
              "      <th></th>\n",
              "      <th>ID</th>\n",
              "      <th>Edad</th>\n",
              "      <th>Salario</th>\n",
              "      <th>Transacciones</th>\n",
              "      <th>Salario_anual</th>\n",
              "    </tr>\n",
              "  </thead>\n",
              "  <tbody>\n",
              "    <tr>\n",
              "      <th>0</th>\n",
              "      <td>1</td>\n",
              "      <td>57</td>\n",
              "      <td>52716</td>\n",
              "      <td>8</td>\n",
              "      <td>632592</td>\n",
              "    </tr>\n",
              "    <tr>\n",
              "      <th>1</th>\n",
              "      <td>2</td>\n",
              "      <td>56</td>\n",
              "      <td>48908</td>\n",
              "      <td>12</td>\n",
              "      <td>586896</td>\n",
              "    </tr>\n",
              "    <tr>\n",
              "      <th>2</th>\n",
              "      <td>3</td>\n",
              "      <td>28</td>\n",
              "      <td>62591</td>\n",
              "      <td>10</td>\n",
              "      <td>751092</td>\n",
              "    </tr>\n",
              "    <tr>\n",
              "      <th>3</th>\n",
              "      <td>4</td>\n",
              "      <td>32</td>\n",
              "      <td>77540</td>\n",
              "      <td>5</td>\n",
              "      <td>930480</td>\n",
              "    </tr>\n",
              "    <tr>\n",
              "      <th>4</th>\n",
              "      <td>5</td>\n",
              "      <td>47</td>\n",
              "      <td>72154</td>\n",
              "      <td>6</td>\n",
              "      <td>865848</td>\n",
              "    </tr>\n",
              "  </tbody>\n",
              "</table>\n",
              "</div>"
            ],
            "text/plain": [
              "   ID  Edad  Salario  Transacciones  Salario_anual\n",
              "0   1    57    52716              8         632592\n",
              "1   2    56    48908             12         586896\n",
              "2   3    28    62591             10         751092\n",
              "3   4    32    77540              5         930480\n",
              "4   5    47    72154              6         865848"
            ]
          },
          "execution_count": 12,
          "metadata": {},
          "output_type": "execute_result"
        }
      ],
      "source": [
        "# Eliminar duplicados\n",
        "df_unificado.drop_duplicates(inplace=True)\n",
        "\n",
        "# Crear columna calculada: Salario anual estimado\n",
        "df_unificado['Salario_anual'] = df_unificado['Salario']*12\n",
        "\n",
        "# Transformar tipos de datos\n",
        "df_unificado['ID'] = df_unificado['ID'].astype(int)\n",
        "df_unificado.head()"
      ]
    },
    {
      "cell_type": "markdown",
      "id": "d9948330",
      "metadata": {},
      "source": [
        "## Lección 6 - Agrupamiento y pivoteo"
      ]
    },
    {
      "cell_type": "code",
      "execution_count": 13,
      "id": "7f0c18a9",
      "metadata": {},
      "outputs": [
        {
          "data": {
            "application/vnd.microsoft.datawrangler.viewer.v0+json": {
              "columns": [
                {
                  "name": "index",
                  "rawType": "int64",
                  "type": "integer"
                },
                {
                  "name": "Salario",
                  "rawType": "float64",
                  "type": "float"
                },
                {
                  "name": "Transacciones",
                  "rawType": "float64",
                  "type": "float"
                }
              ],
              "ref": "f4014661-71d0-4258-86bb-c7afc071dd99",
              "rows": [
                [
                  "0",
                  "74601.9",
                  "10.4"
                ]
              ],
              "shape": {
                "columns": 2,
                "rows": 1
              }
            },
            "text/html": [
              "<div>\n",
              "<style scoped>\n",
              "    .dataframe tbody tr th:only-of-type {\n",
              "        vertical-align: middle;\n",
              "    }\n",
              "\n",
              "    .dataframe tbody tr th {\n",
              "        vertical-align: top;\n",
              "    }\n",
              "\n",
              "    .dataframe thead th {\n",
              "        text-align: right;\n",
              "    }\n",
              "</style>\n",
              "<table border=\"1\" class=\"dataframe\">\n",
              "  <thead>\n",
              "    <tr style=\"text-align: right;\">\n",
              "      <th></th>\n",
              "      <th>Salario</th>\n",
              "      <th>Transacciones</th>\n",
              "    </tr>\n",
              "  </thead>\n",
              "  <tbody>\n",
              "    <tr>\n",
              "      <th>0</th>\n",
              "      <td>74601.9</td>\n",
              "      <td>10.4</td>\n",
              "    </tr>\n",
              "  </tbody>\n",
              "</table>\n",
              "</div>"
            ],
            "text/plain": [
              "   Salario  Transacciones\n",
              "0  74601.9           10.4"
            ]
          },
          "execution_count": 13,
          "metadata": {},
          "output_type": "execute_result"
        }
      ],
      "source": [
        "# Agrupamiento por ciudad\n",
        "if 'Ciudad' in df_unificado.columns:\n",
        "    df_grouped = df_unificado.groupby('Ciudad')[['Salario','Transacciones']].mean()\n",
        "else:\n",
        "    df_grouped = df_unificado[['Salario','Transacciones']].mean().to_frame().T\n",
        "df_grouped"
      ]
    },
    {
      "cell_type": "code",
      "execution_count": 14,
      "id": "6da5f646",
      "metadata": {},
      "outputs": [],
      "source": [
        "# Pivot ejemplo\n",
        "if 'Ciudad' in df_unificado.columns:\n",
        "    df_pivot = df_unificado.pivot_table(index='Ciudad', values='Salario', aggfunc='mean')\n",
        "    df_pivot"
      ]
    },
    {
      "cell_type": "code",
      "execution_count": 15,
      "id": "4f256c3c",
      "metadata": {},
      "outputs": [],
      "source": [
        "# Exportar CSV y Excel\n",
        "df_unificado.to_csv('dataset_final.csv', index=False)\n",
        "df_unificado.to_excel('dataset_final.xlsx', index=False)"
      ]
    },
    {
      "cell_type": "markdown",
      "id": "19cfa3ee",
      "metadata": {},
      "source": [
        "## Conclusión\n",
        "Este notebook integra todas las etapas de obtención y preparación de datos, desde la generación de datos ficticios con NumPy hasta la limpieza, transformación, wrangling y exportación del dataset final utilizando Pandas."
      ]
    }
  ],
  "metadata": {
    "kernelspec": {
      "display_name": "Python 3",
      "name": "python3"
    },
    "language_info": {
      "codemirror_mode": {
        "name": "ipython",
        "version": 3
      },
      "file_extension": ".py",
      "mimetype": "text/x-python",
      "name": "python",
      "nbconvert_exporter": "python",
      "pygments_lexer": "ipython3",
      "version": "3.11.9"
    }
  },
  "nbformat": 4,
  "nbformat_minor": 5
}
