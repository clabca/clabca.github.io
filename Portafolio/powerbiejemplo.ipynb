{
 "cells": [
  {
   "cell_type": "code",
   "execution_count": 1,
   "metadata": {},
   "outputs": [],
   "source": [
    "from powerbiclient import Report, models\n",
    "from powerbiclient.authentication import DeviceCodeLoginAuthentication\n",
    "import pandas as pd\n",
    "from io import StringIO\n",
    "import matplotlib.pyplot as plt"
   ]
  },
  {
   "cell_type": "code",
   "execution_count": 10,
   "metadata": {},
   "outputs": [
    {
     "name": "stdout",
     "output_type": "stream",
     "text": [
      "Performing device flow authentication. Please follow the instructions below.\n",
      "To sign in, use a web browser to open the page https://microsoft.com/devicelogin and enter the code BMMK9PL88 to authenticate.\n",
      "\n",
      "Device flow authentication successfully completed.\n",
      "You are now logged in .\n",
      "\n",
      "The result should be passed only to trusted code in your notebook.\n"
     ]
    }
   ],
   "source": [
    "device_auth = DeviceCodeLoginAuthentication()\n"
   ]
  },
  {
   "cell_type": "code",
   "execution_count": 11,
   "metadata": {},
   "outputs": [
    {
     "ename": "Exception",
     "evalue": "Could not get embed URL: Get embed URL failed with status code 401",
     "output_type": "error",
     "traceback": [
      "\u001b[1;31m---------------------------------------------------------------------------\u001b[0m",
      "\u001b[1;31mException\u001b[0m                                 Traceback (most recent call last)",
      "File \u001b[1;32m~\\AppData\\Local\\Packages\\PythonSoftwareFoundation.Python.3.10_qbz5n2kfra8p0\\LocalCache\\local-packages\\Python310\\site-packages\\powerbiclient\\report.py:268\u001b[0m, in \u001b[0;36mReport.__init__\u001b[1;34m(self, group_id, report_id, auth, view_mode, permissions, dataset_id, **kwargs)\u001b[0m\n\u001b[0;32m    267\u001b[0m         response_key \u001b[39m=\u001b[39m \u001b[39m\"\u001b[39m\u001b[39membedUrl\u001b[39m\u001b[39m\"\u001b[39m\n\u001b[1;32m--> 268\u001b[0m     embed_url \u001b[39m=\u001b[39m \u001b[39mself\u001b[39;49m\u001b[39m.\u001b[39;49m_get_embed_url(\n\u001b[0;32m    269\u001b[0m         request_url\u001b[39m=\u001b[39;49mrequest_url, token\u001b[39m=\u001b[39;49maccess_token, response_key\u001b[39m=\u001b[39;49mresponse_key)\n\u001b[0;32m    271\u001b[0m \u001b[39mexcept\u001b[39;00m \u001b[39mException\u001b[39;00m \u001b[39mas\u001b[39;00m ex:\n",
      "File \u001b[1;32m~\\AppData\\Local\\Packages\\PythonSoftwareFoundation.Python.3.10_qbz5n2kfra8p0\\LocalCache\\local-packages\\Python310\\site-packages\\powerbiclient\\report.py:309\u001b[0m, in \u001b[0;36mReport._get_embed_url\u001b[1;34m(self, request_url, token, response_key)\u001b[0m\n\u001b[0;32m    308\u001b[0m \u001b[39mif\u001b[39;00m \u001b[39mnot\u001b[39;00m response\u001b[39m.\u001b[39mok:\n\u001b[1;32m--> 309\u001b[0m     \u001b[39mraise\u001b[39;00m \u001b[39mException\u001b[39;00m(\n\u001b[0;32m    310\u001b[0m         \u001b[39m\"\u001b[39m\u001b[39mGet embed URL failed with status code \u001b[39m\u001b[39m{0}\u001b[39;00m\u001b[39m\"\u001b[39m\u001b[39m.\u001b[39mformat(response\u001b[39m.\u001b[39mstatus_code))\n\u001b[0;32m    311\u001b[0m \u001b[39mreturn\u001b[39;00m response\u001b[39m.\u001b[39mjson()[response_key]\n",
      "\u001b[1;31mException\u001b[0m: Get embed URL failed with status code 401",
      "\nDuring handling of the above exception, another exception occurred:\n",
      "\u001b[1;31mException\u001b[0m                                 Traceback (most recent call last)",
      "\u001b[1;32mc:\\Users\\clabc\\Mi unidad\\Personales\\Portafolio\\Portafolio\\powerbiejemplo.ipynb Celda 3\u001b[0m line \u001b[0;36m3\n\u001b[0;32m      <a href='vscode-notebook-cell:/c%3A/Users/clabc/Mi%20unidad/Personales/Portafolio/Portafolio/powerbiejemplo.ipynb#W2sZmlsZQ%3D%3D?line=0'>1</a>\u001b[0m group_id \u001b[39m=\u001b[39m \u001b[39m\"\u001b[39m\u001b[39mffd45c14-190a-44e8-9f4c-d470358c3059\u001b[39m\u001b[39m\"\u001b[39m\n\u001b[0;32m      <a href='vscode-notebook-cell:/c%3A/Users/clabc/Mi%20unidad/Personales/Portafolio/Portafolio/powerbiejemplo.ipynb#W2sZmlsZQ%3D%3D?line=1'>2</a>\u001b[0m report_id \u001b[39m=\u001b[39m \u001b[39m\"\u001b[39m\u001b[39m6c86fde1-6cc7-4f57-8b60-dd4fcfab6327\u001b[39m\u001b[39m\"\u001b[39m\n\u001b[1;32m----> <a href='vscode-notebook-cell:/c%3A/Users/clabc/Mi%20unidad/Personales/Portafolio/Portafolio/powerbiejemplo.ipynb#W2sZmlsZQ%3D%3D?line=2'>3</a>\u001b[0m report \u001b[39m=\u001b[39m Report(group_id\u001b[39m=\u001b[39;49mgroup_id, report_id\u001b[39m=\u001b[39;49mreport_id, auth\u001b[39m=\u001b[39;49mdevice_auth)\n\u001b[0;32m      <a href='vscode-notebook-cell:/c%3A/Users/clabc/Mi%20unidad/Personales/Portafolio/Portafolio/powerbiejemplo.ipynb#W2sZmlsZQ%3D%3D?line=3'>4</a>\u001b[0m report\n",
      "File \u001b[1;32m~\\AppData\\Local\\Packages\\PythonSoftwareFoundation.Python.3.10_qbz5n2kfra8p0\\LocalCache\\local-packages\\Python310\\site-packages\\powerbiclient\\report.py:272\u001b[0m, in \u001b[0;36mReport.__init__\u001b[1;34m(self, group_id, report_id, auth, view_mode, permissions, dataset_id, **kwargs)\u001b[0m\n\u001b[0;32m    268\u001b[0m     embed_url \u001b[39m=\u001b[39m \u001b[39mself\u001b[39m\u001b[39m.\u001b[39m_get_embed_url(\n\u001b[0;32m    269\u001b[0m         request_url\u001b[39m=\u001b[39mrequest_url, token\u001b[39m=\u001b[39maccess_token, response_key\u001b[39m=\u001b[39mresponse_key)\n\u001b[0;32m    271\u001b[0m \u001b[39mexcept\u001b[39;00m \u001b[39mException\u001b[39;00m \u001b[39mas\u001b[39;00m ex:\n\u001b[1;32m--> 272\u001b[0m     \u001b[39mraise\u001b[39;00m \u001b[39mException\u001b[39;00m(\u001b[39m\"\u001b[39m\u001b[39mCould not get embed URL: \u001b[39m\u001b[39m{0}\u001b[39;00m\u001b[39m\"\u001b[39m\u001b[39m.\u001b[39mformat(ex))\n\u001b[0;32m    274\u001b[0m \u001b[39m# Tells if Power BI events are being observed\u001b[39;00m\n\u001b[0;32m    275\u001b[0m \u001b[39mself\u001b[39m\u001b[39m.\u001b[39m_observing_events \u001b[39m=\u001b[39m \u001b[39mFalse\u001b[39;00m\n",
      "\u001b[1;31mException\u001b[0m: Could not get embed URL: Get embed URL failed with status code 401"
     ]
    }
   ],
   "source": [
    "group_id = \"ffd45c14-190a-44e8-9f4c-d470358c3059\"\n",
    "report_id = \"6c86fde1-6cc7-4f57-8b60-dd4fcfab6327\"\n",
    "report = Report(group_id=group_id, report_id=report_id, auth=device_auth)\n",
    "report\n"
   ]
  }
 ],
 "metadata": {
  "kernelspec": {
   "display_name": "Python 3",
   "language": "python",
   "name": "python3"
  },
  "language_info": {
   "codemirror_mode": {
    "name": "ipython",
    "version": 3
   },
   "file_extension": ".py",
   "mimetype": "text/x-python",
   "name": "python",
   "nbconvert_exporter": "python",
   "pygments_lexer": "ipython3",
   "version": "3.10.11"
  }
 },
 "nbformat": 4,
 "nbformat_minor": 2
}
